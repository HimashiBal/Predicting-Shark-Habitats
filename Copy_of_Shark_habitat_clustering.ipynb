{
  "cells": [
    {
      "cell_type": "markdown",
      "metadata": {
        "id": "view-in-github",
        "colab_type": "text"
      },
      "source": [
        "<a href=\"https://colab.research.google.com/github/HimashiBal/Predicting-Shark-Habitats/blob/main/Copy_of_Shark_habitat_clustering.ipynb\" target=\"_parent\"><img src=\"https://colab.research.google.com/assets/colab-badge.svg\" alt=\"Open In Colab\"/></a>"
      ]
    },
    {
      "cell_type": "markdown",
      "metadata": {
        "id": "vvW-z6Wi_xvM"
      },
      "source": [
        "## Shark habitat clustering using K-means"
      ]
    },
    {
      "cell_type": "markdown",
      "metadata": {
        "id": "BkThF9-6bavH"
      },
      "source": [
        "# Import Libraries and acquire Data"
      ]
    },
    {
      "cell_type": "code",
      "execution_count": null,
      "metadata": {
        "id": "rmR1Ld4cbavH"
      },
      "outputs": [],
      "source": [
        "# Import libraries\n",
        "import pandas as pd # Pandas is used for data manipulation\n",
        "import numpy as np\n",
        "import matplotlib.pyplot as plt\n",
        "import seaborn as sns\n",
        "from sklearn.cluster import KMeans"
      ]
    },
    {
      "cell_type": "code",
      "execution_count": null,
      "metadata": {
        "id": "xKaPZJljdQ1S",
        "colab": {
          "base_uri": "https://localhost:8080/"
        },
        "outputId": "44e7c530-42ab-4cc9-b57a-d3d568c15ca4"
      },
      "outputs": [
        {
          "output_type": "stream",
          "name": "stdout",
          "text": [
            "Mounted at /content/drive\n"
          ]
        }
      ],
      "source": [
        "from google.colab import drive\n",
        "drive.mount('/content/drive')"
      ]
    },
    {
      "cell_type": "code",
      "execution_count": null,
      "metadata": {
        "id": "T-ZGe6kN-kC2"
      },
      "outputs": [],
      "source": [
        "# load shark migration data that also has environment data\n",
        "fp = r\"/content/drive/MyDrive/Colab Notebooks/Shark_habitat_AMOC/Shortfin_Mako_Env_Data_ALL.csv\""
      ]
    },
    {
      "cell_type": "code",
      "execution_count": null,
      "metadata": {
        "id": "wWe6RzaeXvYu"
      },
      "outputs": [],
      "source": [
        "# Read data using varying amount of spaces as separator and specifying * characters as NoData values\n",
        "# And don't worry about the warning message generated when running this cell\n",
        "data = pd.read_csv(fp, na_values=[\"*\", \"**\", \"***\", \"****\", \"*****\", \"******\"])"
      ]
    },
    {
      "cell_type": "code",
      "execution_count": null,
      "metadata": {
        "id": "h6HwxJzxTnix",
        "colab": {
          "base_uri": "https://localhost:8080/"
        },
        "outputId": "3303b23d-76f8-4909-ed85-fa427d9ecc18"
      },
      "outputs": [
        {
          "output_type": "execute_result",
          "data": {
            "text/plain": [
              "(25640, 11)"
            ]
          },
          "metadata": {},
          "execution_count": 5
        }
      ],
      "source": [
        "data.shape"
      ]
    },
    {
      "cell_type": "code",
      "execution_count": null,
      "metadata": {
        "id": "DmyoRNo0TrUa",
        "colab": {
          "base_uri": "https://localhost:8080/"
        },
        "outputId": "f15b69c8-0324-4a67-c753-254e27165bce"
      },
      "outputs": [
        {
          "output_type": "execute_result",
          "data": {
            "text/plain": [
              "Unnamed: 0                  0\n",
              "shark                       0\n",
              "timestamp                   0\n",
              "longitude                   0\n",
              "latitude                    0\n",
              "argos_location_class        1\n",
              "Unnamed: 5              25640\n",
              "sst_C                      32\n",
              "salinity                 6059\n",
              "chlorophyll              1222\n",
              "elevation                  13\n",
              "dtype: int64"
            ]
          },
          "metadata": {},
          "execution_count": 6
        }
      ],
      "source": [
        "#check for null or missing values\n",
        "data.isna().sum()\n",
        "data.isnull().sum()"
      ]
    },
    {
      "cell_type": "code",
      "execution_count": null,
      "metadata": {
        "id": "t5Vd85gbS-kQ"
      },
      "outputs": [],
      "source": [
        "# Keep only the first n rows\n",
        "#data = data.head(12000)"
      ]
    },
    {
      "cell_type": "code",
      "execution_count": null,
      "metadata": {
        "id": "vyeqqZofUBMh",
        "colab": {
          "base_uri": "https://localhost:8080/"
        },
        "outputId": "fbf0ee1a-912f-440c-f7c9-f00250b002d2"
      },
      "outputs": [
        {
          "output_type": "execute_result",
          "data": {
            "text/plain": [
              "(25640, 11)"
            ]
          },
          "metadata": {},
          "execution_count": 7
        }
      ],
      "source": [
        "data.shape"
      ]
    },
    {
      "cell_type": "code",
      "execution_count": null,
      "metadata": {
        "id": "jz-NMgSDfU-Q"
      },
      "outputs": [],
      "source": [
        "# Remove leading/trailing whitespaces from column names\n",
        "data.columns = data.columns.str.strip()\n",
        "# Drop unnecessary columns\n",
        "data = data.drop(['Unnamed: 5', 'argos_location_class'], axis=1)"
      ]
    },
    {
      "cell_type": "code",
      "execution_count": null,
      "metadata": {
        "id": "pdSer2wr4cPY",
        "colab": {
          "base_uri": "https://localhost:8080/",
          "height": 363
        },
        "outputId": "76d6b6cd-b97e-406f-932d-f732d34ece87"
      },
      "outputs": [
        {
          "output_type": "execute_result",
          "data": {
            "text/plain": [
              "      Unnamed: 0  shark            timestamp  longitude  latitude      sst_C  \\\n",
              "1030        1030      1  2014-02-17 21:52:21   -86.6458   22.4526  26.066116   \n",
              "1031        1031      1   2014-02-18 4:44:31   -86.8191   22.5205  26.066116   \n",
              "1032        1032      1  2014-02-18 10:56:10   -86.8425   22.4608  26.066116   \n",
              "1033        1033      1  2014-02-18 12:39:32   -86.7865   22.4283  26.066116   \n",
              "1034        1034      1  2014-02-18 14:56:32   -86.6680   22.4041  26.066116   \n",
              "1035        1035      1  2014-02-18 16:32:12   -86.6467   22.4072  26.066116   \n",
              "1036        1036      1  2014-02-18 18:14:06   -86.6709   22.3771  26.066116   \n",
              "1037        1037      1  2014-02-18 21:38:33   -86.6545   22.3647  26.066116   \n",
              "1038        1038      1  2014-02-18 23:14:05   -86.7098   22.3830  26.066116   \n",
              "1039        1039      1  2014-02-18 23:14:48   -86.6775   22.3850  26.066116   \n",
              "\n",
              "       salinity  chlorophyll  elevation  \n",
              "1030  36.667630     0.238277     1247.0  \n",
              "1031  36.342945     0.227161     1259.0  \n",
              "1032  36.814500     0.219333      784.0  \n",
              "1033  36.814500     0.248161      976.0  \n",
              "1034  36.667630     0.265201     1485.0  \n",
              "1035  36.667630     0.265994     1016.0  \n",
              "1036  36.667630     0.265201     1280.0  \n",
              "1037  36.667630     0.252723      977.0  \n",
              "1038  36.667630     0.265631     1456.0  \n",
              "1039  36.667630     0.265201     1669.0  "
            ],
            "text/html": [
              "\n",
              "  <div id=\"df-bd53c2b1-bf0c-41c6-979b-e19889eb3064\" class=\"colab-df-container\">\n",
              "    <div>\n",
              "<style scoped>\n",
              "    .dataframe tbody tr th:only-of-type {\n",
              "        vertical-align: middle;\n",
              "    }\n",
              "\n",
              "    .dataframe tbody tr th {\n",
              "        vertical-align: top;\n",
              "    }\n",
              "\n",
              "    .dataframe thead th {\n",
              "        text-align: right;\n",
              "    }\n",
              "</style>\n",
              "<table border=\"1\" class=\"dataframe\">\n",
              "  <thead>\n",
              "    <tr style=\"text-align: right;\">\n",
              "      <th></th>\n",
              "      <th>Unnamed: 0</th>\n",
              "      <th>shark</th>\n",
              "      <th>timestamp</th>\n",
              "      <th>longitude</th>\n",
              "      <th>latitude</th>\n",
              "      <th>sst_C</th>\n",
              "      <th>salinity</th>\n",
              "      <th>chlorophyll</th>\n",
              "      <th>elevation</th>\n",
              "    </tr>\n",
              "  </thead>\n",
              "  <tbody>\n",
              "    <tr>\n",
              "      <th>1030</th>\n",
              "      <td>1030</td>\n",
              "      <td>1</td>\n",
              "      <td>2014-02-17 21:52:21</td>\n",
              "      <td>-86.6458</td>\n",
              "      <td>22.4526</td>\n",
              "      <td>26.066116</td>\n",
              "      <td>36.667630</td>\n",
              "      <td>0.238277</td>\n",
              "      <td>1247.0</td>\n",
              "    </tr>\n",
              "    <tr>\n",
              "      <th>1031</th>\n",
              "      <td>1031</td>\n",
              "      <td>1</td>\n",
              "      <td>2014-02-18 4:44:31</td>\n",
              "      <td>-86.8191</td>\n",
              "      <td>22.5205</td>\n",
              "      <td>26.066116</td>\n",
              "      <td>36.342945</td>\n",
              "      <td>0.227161</td>\n",
              "      <td>1259.0</td>\n",
              "    </tr>\n",
              "    <tr>\n",
              "      <th>1032</th>\n",
              "      <td>1032</td>\n",
              "      <td>1</td>\n",
              "      <td>2014-02-18 10:56:10</td>\n",
              "      <td>-86.8425</td>\n",
              "      <td>22.4608</td>\n",
              "      <td>26.066116</td>\n",
              "      <td>36.814500</td>\n",
              "      <td>0.219333</td>\n",
              "      <td>784.0</td>\n",
              "    </tr>\n",
              "    <tr>\n",
              "      <th>1033</th>\n",
              "      <td>1033</td>\n",
              "      <td>1</td>\n",
              "      <td>2014-02-18 12:39:32</td>\n",
              "      <td>-86.7865</td>\n",
              "      <td>22.4283</td>\n",
              "      <td>26.066116</td>\n",
              "      <td>36.814500</td>\n",
              "      <td>0.248161</td>\n",
              "      <td>976.0</td>\n",
              "    </tr>\n",
              "    <tr>\n",
              "      <th>1034</th>\n",
              "      <td>1034</td>\n",
              "      <td>1</td>\n",
              "      <td>2014-02-18 14:56:32</td>\n",
              "      <td>-86.6680</td>\n",
              "      <td>22.4041</td>\n",
              "      <td>26.066116</td>\n",
              "      <td>36.667630</td>\n",
              "      <td>0.265201</td>\n",
              "      <td>1485.0</td>\n",
              "    </tr>\n",
              "    <tr>\n",
              "      <th>1035</th>\n",
              "      <td>1035</td>\n",
              "      <td>1</td>\n",
              "      <td>2014-02-18 16:32:12</td>\n",
              "      <td>-86.6467</td>\n",
              "      <td>22.4072</td>\n",
              "      <td>26.066116</td>\n",
              "      <td>36.667630</td>\n",
              "      <td>0.265994</td>\n",
              "      <td>1016.0</td>\n",
              "    </tr>\n",
              "    <tr>\n",
              "      <th>1036</th>\n",
              "      <td>1036</td>\n",
              "      <td>1</td>\n",
              "      <td>2014-02-18 18:14:06</td>\n",
              "      <td>-86.6709</td>\n",
              "      <td>22.3771</td>\n",
              "      <td>26.066116</td>\n",
              "      <td>36.667630</td>\n",
              "      <td>0.265201</td>\n",
              "      <td>1280.0</td>\n",
              "    </tr>\n",
              "    <tr>\n",
              "      <th>1037</th>\n",
              "      <td>1037</td>\n",
              "      <td>1</td>\n",
              "      <td>2014-02-18 21:38:33</td>\n",
              "      <td>-86.6545</td>\n",
              "      <td>22.3647</td>\n",
              "      <td>26.066116</td>\n",
              "      <td>36.667630</td>\n",
              "      <td>0.252723</td>\n",
              "      <td>977.0</td>\n",
              "    </tr>\n",
              "    <tr>\n",
              "      <th>1038</th>\n",
              "      <td>1038</td>\n",
              "      <td>1</td>\n",
              "      <td>2014-02-18 23:14:05</td>\n",
              "      <td>-86.7098</td>\n",
              "      <td>22.3830</td>\n",
              "      <td>26.066116</td>\n",
              "      <td>36.667630</td>\n",
              "      <td>0.265631</td>\n",
              "      <td>1456.0</td>\n",
              "    </tr>\n",
              "    <tr>\n",
              "      <th>1039</th>\n",
              "      <td>1039</td>\n",
              "      <td>1</td>\n",
              "      <td>2014-02-18 23:14:48</td>\n",
              "      <td>-86.6775</td>\n",
              "      <td>22.3850</td>\n",
              "      <td>26.066116</td>\n",
              "      <td>36.667630</td>\n",
              "      <td>0.265201</td>\n",
              "      <td>1669.0</td>\n",
              "    </tr>\n",
              "  </tbody>\n",
              "</table>\n",
              "</div>\n",
              "    <div class=\"colab-df-buttons\">\n",
              "\n",
              "  <div class=\"colab-df-container\">\n",
              "    <button class=\"colab-df-convert\" onclick=\"convertToInteractive('df-bd53c2b1-bf0c-41c6-979b-e19889eb3064')\"\n",
              "            title=\"Convert this dataframe to an interactive table.\"\n",
              "            style=\"display:none;\">\n",
              "\n",
              "  <svg xmlns=\"http://www.w3.org/2000/svg\" height=\"24px\" viewBox=\"0 -960 960 960\">\n",
              "    <path d=\"M120-120v-720h720v720H120Zm60-500h600v-160H180v160Zm220 220h160v-160H400v160Zm0 220h160v-160H400v160ZM180-400h160v-160H180v160Zm440 0h160v-160H620v160ZM180-180h160v-160H180v160Zm440 0h160v-160H620v160Z\"/>\n",
              "  </svg>\n",
              "    </button>\n",
              "\n",
              "  <style>\n",
              "    .colab-df-container {\n",
              "      display:flex;\n",
              "      gap: 12px;\n",
              "    }\n",
              "\n",
              "    .colab-df-convert {\n",
              "      background-color: #E8F0FE;\n",
              "      border: none;\n",
              "      border-radius: 50%;\n",
              "      cursor: pointer;\n",
              "      display: none;\n",
              "      fill: #1967D2;\n",
              "      height: 32px;\n",
              "      padding: 0 0 0 0;\n",
              "      width: 32px;\n",
              "    }\n",
              "\n",
              "    .colab-df-convert:hover {\n",
              "      background-color: #E2EBFA;\n",
              "      box-shadow: 0px 1px 2px rgba(60, 64, 67, 0.3), 0px 1px 3px 1px rgba(60, 64, 67, 0.15);\n",
              "      fill: #174EA6;\n",
              "    }\n",
              "\n",
              "    .colab-df-buttons div {\n",
              "      margin-bottom: 4px;\n",
              "    }\n",
              "\n",
              "    [theme=dark] .colab-df-convert {\n",
              "      background-color: #3B4455;\n",
              "      fill: #D2E3FC;\n",
              "    }\n",
              "\n",
              "    [theme=dark] .colab-df-convert:hover {\n",
              "      background-color: #434B5C;\n",
              "      box-shadow: 0px 1px 3px 1px rgba(0, 0, 0, 0.15);\n",
              "      filter: drop-shadow(0px 1px 2px rgba(0, 0, 0, 0.3));\n",
              "      fill: #FFFFFF;\n",
              "    }\n",
              "  </style>\n",
              "\n",
              "    <script>\n",
              "      const buttonEl =\n",
              "        document.querySelector('#df-bd53c2b1-bf0c-41c6-979b-e19889eb3064 button.colab-df-convert');\n",
              "      buttonEl.style.display =\n",
              "        google.colab.kernel.accessAllowed ? 'block' : 'none';\n",
              "\n",
              "      async function convertToInteractive(key) {\n",
              "        const element = document.querySelector('#df-bd53c2b1-bf0c-41c6-979b-e19889eb3064');\n",
              "        const dataTable =\n",
              "          await google.colab.kernel.invokeFunction('convertToInteractive',\n",
              "                                                    [key], {});\n",
              "        if (!dataTable) return;\n",
              "\n",
              "        const docLinkHtml = 'Like what you see? Visit the ' +\n",
              "          '<a target=\"_blank\" href=https://colab.research.google.com/notebooks/data_table.ipynb>data table notebook</a>'\n",
              "          + ' to learn more about interactive tables.';\n",
              "        element.innerHTML = '';\n",
              "        dataTable['output_type'] = 'display_data';\n",
              "        await google.colab.output.renderOutput(dataTable, element);\n",
              "        const docLink = document.createElement('div');\n",
              "        docLink.innerHTML = docLinkHtml;\n",
              "        element.appendChild(docLink);\n",
              "      }\n",
              "    </script>\n",
              "  </div>\n",
              "\n",
              "\n",
              "<div id=\"df-0c07d752-d202-42d8-9966-1849b95b235a\">\n",
              "  <button class=\"colab-df-quickchart\" onclick=\"quickchart('df-0c07d752-d202-42d8-9966-1849b95b235a')\"\n",
              "            title=\"Suggest charts\"\n",
              "            style=\"display:none;\">\n",
              "\n",
              "<svg xmlns=\"http://www.w3.org/2000/svg\" height=\"24px\"viewBox=\"0 0 24 24\"\n",
              "     width=\"24px\">\n",
              "    <g>\n",
              "        <path d=\"M19 3H5c-1.1 0-2 .9-2 2v14c0 1.1.9 2 2 2h14c1.1 0 2-.9 2-2V5c0-1.1-.9-2-2-2zM9 17H7v-7h2v7zm4 0h-2V7h2v10zm4 0h-2v-4h2v4z\"/>\n",
              "    </g>\n",
              "</svg>\n",
              "  </button>\n",
              "\n",
              "<style>\n",
              "  .colab-df-quickchart {\n",
              "      --bg-color: #E8F0FE;\n",
              "      --fill-color: #1967D2;\n",
              "      --hover-bg-color: #E2EBFA;\n",
              "      --hover-fill-color: #174EA6;\n",
              "      --disabled-fill-color: #AAA;\n",
              "      --disabled-bg-color: #DDD;\n",
              "  }\n",
              "\n",
              "  [theme=dark] .colab-df-quickchart {\n",
              "      --bg-color: #3B4455;\n",
              "      --fill-color: #D2E3FC;\n",
              "      --hover-bg-color: #434B5C;\n",
              "      --hover-fill-color: #FFFFFF;\n",
              "      --disabled-bg-color: #3B4455;\n",
              "      --disabled-fill-color: #666;\n",
              "  }\n",
              "\n",
              "  .colab-df-quickchart {\n",
              "    background-color: var(--bg-color);\n",
              "    border: none;\n",
              "    border-radius: 50%;\n",
              "    cursor: pointer;\n",
              "    display: none;\n",
              "    fill: var(--fill-color);\n",
              "    height: 32px;\n",
              "    padding: 0;\n",
              "    width: 32px;\n",
              "  }\n",
              "\n",
              "  .colab-df-quickchart:hover {\n",
              "    background-color: var(--hover-bg-color);\n",
              "    box-shadow: 0 1px 2px rgba(60, 64, 67, 0.3), 0 1px 3px 1px rgba(60, 64, 67, 0.15);\n",
              "    fill: var(--button-hover-fill-color);\n",
              "  }\n",
              "\n",
              "  .colab-df-quickchart-complete:disabled,\n",
              "  .colab-df-quickchart-complete:disabled:hover {\n",
              "    background-color: var(--disabled-bg-color);\n",
              "    fill: var(--disabled-fill-color);\n",
              "    box-shadow: none;\n",
              "  }\n",
              "\n",
              "  .colab-df-spinner {\n",
              "    border: 2px solid var(--fill-color);\n",
              "    border-color: transparent;\n",
              "    border-bottom-color: var(--fill-color);\n",
              "    animation:\n",
              "      spin 1s steps(1) infinite;\n",
              "  }\n",
              "\n",
              "  @keyframes spin {\n",
              "    0% {\n",
              "      border-color: transparent;\n",
              "      border-bottom-color: var(--fill-color);\n",
              "      border-left-color: var(--fill-color);\n",
              "    }\n",
              "    20% {\n",
              "      border-color: transparent;\n",
              "      border-left-color: var(--fill-color);\n",
              "      border-top-color: var(--fill-color);\n",
              "    }\n",
              "    30% {\n",
              "      border-color: transparent;\n",
              "      border-left-color: var(--fill-color);\n",
              "      border-top-color: var(--fill-color);\n",
              "      border-right-color: var(--fill-color);\n",
              "    }\n",
              "    40% {\n",
              "      border-color: transparent;\n",
              "      border-right-color: var(--fill-color);\n",
              "      border-top-color: var(--fill-color);\n",
              "    }\n",
              "    60% {\n",
              "      border-color: transparent;\n",
              "      border-right-color: var(--fill-color);\n",
              "    }\n",
              "    80% {\n",
              "      border-color: transparent;\n",
              "      border-right-color: var(--fill-color);\n",
              "      border-bottom-color: var(--fill-color);\n",
              "    }\n",
              "    90% {\n",
              "      border-color: transparent;\n",
              "      border-bottom-color: var(--fill-color);\n",
              "    }\n",
              "  }\n",
              "</style>\n",
              "\n",
              "  <script>\n",
              "    async function quickchart(key) {\n",
              "      const quickchartButtonEl =\n",
              "        document.querySelector('#' + key + ' button');\n",
              "      quickchartButtonEl.disabled = true;  // To prevent multiple clicks.\n",
              "      quickchartButtonEl.classList.add('colab-df-spinner');\n",
              "      try {\n",
              "        const charts = await google.colab.kernel.invokeFunction(\n",
              "            'suggestCharts', [key], {});\n",
              "      } catch (error) {\n",
              "        console.error('Error during call to suggestCharts:', error);\n",
              "      }\n",
              "      quickchartButtonEl.classList.remove('colab-df-spinner');\n",
              "      quickchartButtonEl.classList.add('colab-df-quickchart-complete');\n",
              "    }\n",
              "    (() => {\n",
              "      let quickchartButtonEl =\n",
              "        document.querySelector('#df-0c07d752-d202-42d8-9966-1849b95b235a button');\n",
              "      quickchartButtonEl.style.display =\n",
              "        google.colab.kernel.accessAllowed ? 'block' : 'none';\n",
              "    })();\n",
              "  </script>\n",
              "</div>\n",
              "\n",
              "    </div>\n",
              "  </div>\n"
            ]
          },
          "metadata": {},
          "execution_count": 9
        }
      ],
      "source": [
        "# # How to print middle rows instead of the top by using head() or the bottom by using tail()\n",
        "i = 1030\n",
        "data.iloc[i:i+10]"
      ]
    },
    {
      "cell_type": "code",
      "execution_count": null,
      "metadata": {
        "id": "En0sG6iv31Yy",
        "colab": {
          "base_uri": "https://localhost:8080/"
        },
        "outputId": "157c4cb7-ad78-4c1e-cb3e-9509aa2da292"
      },
      "outputs": [
        {
          "output_type": "stream",
          "name": "stdout",
          "text": [
            "The DataFrame has 25640 rows.\n"
          ]
        }
      ],
      "source": [
        "print(f'The DataFrame has {len(data)} rows.')"
      ]
    },
    {
      "cell_type": "code",
      "execution_count": null,
      "metadata": {
        "id": "og0iLOQMDwvB"
      },
      "outputs": [],
      "source": [
        "data.drop_duplicates(inplace=True)"
      ]
    },
    {
      "cell_type": "code",
      "execution_count": null,
      "metadata": {
        "id": "2tIVvT4M32H9",
        "colab": {
          "base_uri": "https://localhost:8080/"
        },
        "outputId": "0cffce6e-8f03-4260-d64e-5fae8a64aaa6"
      },
      "outputs": [
        {
          "output_type": "stream",
          "name": "stdout",
          "text": [
            "The DataFrame has 25640 rows.\n"
          ]
        }
      ],
      "source": [
        "print(f'The DataFrame has {len(data)} rows.')"
      ]
    },
    {
      "cell_type": "code",
      "execution_count": null,
      "metadata": {
        "id": "TDEMq3UKAR1b",
        "colab": {
          "base_uri": "https://localhost:8080/",
          "height": 677
        },
        "outputId": "86555cbe-3cd9-4ada-f201-9dc9b4d40db7"
      },
      "outputs": [
        {
          "output_type": "execute_result",
          "data": {
            "text/plain": [
              "       Unnamed: 0  shark            timestamp  longitude  latitude      sst_C  \\\n",
              "25620       25620     26  2015-08-20 10:36:00  -70.77541  41.16578  21.920557   \n",
              "25621       25621     26  2015-08-20 23:55:00  -70.75665  41.14360  21.920557   \n",
              "25622       25622     26   2015-08-21 9:52:00  -70.75546  41.18341  21.920557   \n",
              "25623       25623     26  2015-08-21 17:23:00  -70.81367  41.21386  21.920557   \n",
              "25624       25624     26  2015-08-22 10:31:00  -70.83440  41.27213  21.920557   \n",
              "25625       25625     26  2015-08-22 21:06:00  -70.71771  41.19675  21.920557   \n",
              "25626       25626     26  2015-08-22 21:47:00  -70.68027  41.19973  21.920557   \n",
              "25627       25627     26  2015-08-22 21:50:00  -70.67528  41.20108  21.920557   \n",
              "25628       25628     26   2015-08-23 0:47:00  -70.64884  41.21123  21.920557   \n",
              "25629       25629     26   2015-08-23 1:43:00  -70.64064  41.21445  21.920557   \n",
              "25630       25630     26   2015-08-23 2:29:00  -70.65490  41.20525  21.920557   \n",
              "25631       25631     26  2015-08-25 21:49:00  -70.58323  41.19675  21.920557   \n",
              "25632       25632     26   2015-08-26 1:10:00  -70.57714  41.19955  21.920557   \n",
              "25633       25633     26   2015-08-26 9:08:00  -70.58657  41.21285  21.920557   \n",
              "25634       25634     26  2015-08-26 10:34:00  -70.57490  41.21458  21.920557   \n",
              "25635       25635     26  2015-08-26 20:22:00  -70.56629  41.10687  21.920557   \n",
              "25636       25636     26  2015-08-26 22:56:00  -70.55428  41.05239  21.920557   \n",
              "25637       25637     26   2015-08-27 6:30:00  -70.58535  40.95506  24.169094   \n",
              "25638       25638     26  2015-08-31 21:59:00  -70.81768  40.82880  24.169094   \n",
              "25639       25639     26  2015-08-31 23:04:00  -70.80026  40.84223  24.169094   \n",
              "\n",
              "        salinity  chlorophyll  elevation  \n",
              "25620        NaN     1.302131     1480.0  \n",
              "25621        NaN     1.302131     1405.0  \n",
              "25622        NaN     1.317873     1523.0  \n",
              "25623        NaN     1.303898     1320.0  \n",
              "25624        NaN     1.558630     1551.0  \n",
              "25625        NaN     1.351010     1521.0  \n",
              "25626        NaN     1.426356     1536.0  \n",
              "25627        NaN     1.426356     1555.0  \n",
              "25628        NaN     1.433927     1564.0  \n",
              "25629        NaN     1.433927     1547.0  \n",
              "25630        NaN     1.450656     1533.0  \n",
              "25631        NaN     1.464671     1467.0  \n",
              "25632        NaN     1.464671     1467.0  \n",
              "25633        NaN     1.519677     1484.0  \n",
              "25634        NaN     1.574514     1447.0  \n",
              "25635        NaN     1.144250     1395.0  \n",
              "25636        NaN     1.051309     1568.0  \n",
              "25637  31.625479     0.722782     1501.0  \n",
              "25638        NaN     0.596911     1132.0  \n",
              "25639        NaN     0.610564     1179.0  "
            ],
            "text/html": [
              "\n",
              "  <div id=\"df-8c5e390e-dd9a-4b0a-97c9-99b8b75790b1\" class=\"colab-df-container\">\n",
              "    <div>\n",
              "<style scoped>\n",
              "    .dataframe tbody tr th:only-of-type {\n",
              "        vertical-align: middle;\n",
              "    }\n",
              "\n",
              "    .dataframe tbody tr th {\n",
              "        vertical-align: top;\n",
              "    }\n",
              "\n",
              "    .dataframe thead th {\n",
              "        text-align: right;\n",
              "    }\n",
              "</style>\n",
              "<table border=\"1\" class=\"dataframe\">\n",
              "  <thead>\n",
              "    <tr style=\"text-align: right;\">\n",
              "      <th></th>\n",
              "      <th>Unnamed: 0</th>\n",
              "      <th>shark</th>\n",
              "      <th>timestamp</th>\n",
              "      <th>longitude</th>\n",
              "      <th>latitude</th>\n",
              "      <th>sst_C</th>\n",
              "      <th>salinity</th>\n",
              "      <th>chlorophyll</th>\n",
              "      <th>elevation</th>\n",
              "    </tr>\n",
              "  </thead>\n",
              "  <tbody>\n",
              "    <tr>\n",
              "      <th>25620</th>\n",
              "      <td>25620</td>\n",
              "      <td>26</td>\n",
              "      <td>2015-08-20 10:36:00</td>\n",
              "      <td>-70.77541</td>\n",
              "      <td>41.16578</td>\n",
              "      <td>21.920557</td>\n",
              "      <td>NaN</td>\n",
              "      <td>1.302131</td>\n",
              "      <td>1480.0</td>\n",
              "    </tr>\n",
              "    <tr>\n",
              "      <th>25621</th>\n",
              "      <td>25621</td>\n",
              "      <td>26</td>\n",
              "      <td>2015-08-20 23:55:00</td>\n",
              "      <td>-70.75665</td>\n",
              "      <td>41.14360</td>\n",
              "      <td>21.920557</td>\n",
              "      <td>NaN</td>\n",
              "      <td>1.302131</td>\n",
              "      <td>1405.0</td>\n",
              "    </tr>\n",
              "    <tr>\n",
              "      <th>25622</th>\n",
              "      <td>25622</td>\n",
              "      <td>26</td>\n",
              "      <td>2015-08-21 9:52:00</td>\n",
              "      <td>-70.75546</td>\n",
              "      <td>41.18341</td>\n",
              "      <td>21.920557</td>\n",
              "      <td>NaN</td>\n",
              "      <td>1.317873</td>\n",
              "      <td>1523.0</td>\n",
              "    </tr>\n",
              "    <tr>\n",
              "      <th>25623</th>\n",
              "      <td>25623</td>\n",
              "      <td>26</td>\n",
              "      <td>2015-08-21 17:23:00</td>\n",
              "      <td>-70.81367</td>\n",
              "      <td>41.21386</td>\n",
              "      <td>21.920557</td>\n",
              "      <td>NaN</td>\n",
              "      <td>1.303898</td>\n",
              "      <td>1320.0</td>\n",
              "    </tr>\n",
              "    <tr>\n",
              "      <th>25624</th>\n",
              "      <td>25624</td>\n",
              "      <td>26</td>\n",
              "      <td>2015-08-22 10:31:00</td>\n",
              "      <td>-70.83440</td>\n",
              "      <td>41.27213</td>\n",
              "      <td>21.920557</td>\n",
              "      <td>NaN</td>\n",
              "      <td>1.558630</td>\n",
              "      <td>1551.0</td>\n",
              "    </tr>\n",
              "    <tr>\n",
              "      <th>25625</th>\n",
              "      <td>25625</td>\n",
              "      <td>26</td>\n",
              "      <td>2015-08-22 21:06:00</td>\n",
              "      <td>-70.71771</td>\n",
              "      <td>41.19675</td>\n",
              "      <td>21.920557</td>\n",
              "      <td>NaN</td>\n",
              "      <td>1.351010</td>\n",
              "      <td>1521.0</td>\n",
              "    </tr>\n",
              "    <tr>\n",
              "      <th>25626</th>\n",
              "      <td>25626</td>\n",
              "      <td>26</td>\n",
              "      <td>2015-08-22 21:47:00</td>\n",
              "      <td>-70.68027</td>\n",
              "      <td>41.19973</td>\n",
              "      <td>21.920557</td>\n",
              "      <td>NaN</td>\n",
              "      <td>1.426356</td>\n",
              "      <td>1536.0</td>\n",
              "    </tr>\n",
              "    <tr>\n",
              "      <th>25627</th>\n",
              "      <td>25627</td>\n",
              "      <td>26</td>\n",
              "      <td>2015-08-22 21:50:00</td>\n",
              "      <td>-70.67528</td>\n",
              "      <td>41.20108</td>\n",
              "      <td>21.920557</td>\n",
              "      <td>NaN</td>\n",
              "      <td>1.426356</td>\n",
              "      <td>1555.0</td>\n",
              "    </tr>\n",
              "    <tr>\n",
              "      <th>25628</th>\n",
              "      <td>25628</td>\n",
              "      <td>26</td>\n",
              "      <td>2015-08-23 0:47:00</td>\n",
              "      <td>-70.64884</td>\n",
              "      <td>41.21123</td>\n",
              "      <td>21.920557</td>\n",
              "      <td>NaN</td>\n",
              "      <td>1.433927</td>\n",
              "      <td>1564.0</td>\n",
              "    </tr>\n",
              "    <tr>\n",
              "      <th>25629</th>\n",
              "      <td>25629</td>\n",
              "      <td>26</td>\n",
              "      <td>2015-08-23 1:43:00</td>\n",
              "      <td>-70.64064</td>\n",
              "      <td>41.21445</td>\n",
              "      <td>21.920557</td>\n",
              "      <td>NaN</td>\n",
              "      <td>1.433927</td>\n",
              "      <td>1547.0</td>\n",
              "    </tr>\n",
              "    <tr>\n",
              "      <th>25630</th>\n",
              "      <td>25630</td>\n",
              "      <td>26</td>\n",
              "      <td>2015-08-23 2:29:00</td>\n",
              "      <td>-70.65490</td>\n",
              "      <td>41.20525</td>\n",
              "      <td>21.920557</td>\n",
              "      <td>NaN</td>\n",
              "      <td>1.450656</td>\n",
              "      <td>1533.0</td>\n",
              "    </tr>\n",
              "    <tr>\n",
              "      <th>25631</th>\n",
              "      <td>25631</td>\n",
              "      <td>26</td>\n",
              "      <td>2015-08-25 21:49:00</td>\n",
              "      <td>-70.58323</td>\n",
              "      <td>41.19675</td>\n",
              "      <td>21.920557</td>\n",
              "      <td>NaN</td>\n",
              "      <td>1.464671</td>\n",
              "      <td>1467.0</td>\n",
              "    </tr>\n",
              "    <tr>\n",
              "      <th>25632</th>\n",
              "      <td>25632</td>\n",
              "      <td>26</td>\n",
              "      <td>2015-08-26 1:10:00</td>\n",
              "      <td>-70.57714</td>\n",
              "      <td>41.19955</td>\n",
              "      <td>21.920557</td>\n",
              "      <td>NaN</td>\n",
              "      <td>1.464671</td>\n",
              "      <td>1467.0</td>\n",
              "    </tr>\n",
              "    <tr>\n",
              "      <th>25633</th>\n",
              "      <td>25633</td>\n",
              "      <td>26</td>\n",
              "      <td>2015-08-26 9:08:00</td>\n",
              "      <td>-70.58657</td>\n",
              "      <td>41.21285</td>\n",
              "      <td>21.920557</td>\n",
              "      <td>NaN</td>\n",
              "      <td>1.519677</td>\n",
              "      <td>1484.0</td>\n",
              "    </tr>\n",
              "    <tr>\n",
              "      <th>25634</th>\n",
              "      <td>25634</td>\n",
              "      <td>26</td>\n",
              "      <td>2015-08-26 10:34:00</td>\n",
              "      <td>-70.57490</td>\n",
              "      <td>41.21458</td>\n",
              "      <td>21.920557</td>\n",
              "      <td>NaN</td>\n",
              "      <td>1.574514</td>\n",
              "      <td>1447.0</td>\n",
              "    </tr>\n",
              "    <tr>\n",
              "      <th>25635</th>\n",
              "      <td>25635</td>\n",
              "      <td>26</td>\n",
              "      <td>2015-08-26 20:22:00</td>\n",
              "      <td>-70.56629</td>\n",
              "      <td>41.10687</td>\n",
              "      <td>21.920557</td>\n",
              "      <td>NaN</td>\n",
              "      <td>1.144250</td>\n",
              "      <td>1395.0</td>\n",
              "    </tr>\n",
              "    <tr>\n",
              "      <th>25636</th>\n",
              "      <td>25636</td>\n",
              "      <td>26</td>\n",
              "      <td>2015-08-26 22:56:00</td>\n",
              "      <td>-70.55428</td>\n",
              "      <td>41.05239</td>\n",
              "      <td>21.920557</td>\n",
              "      <td>NaN</td>\n",
              "      <td>1.051309</td>\n",
              "      <td>1568.0</td>\n",
              "    </tr>\n",
              "    <tr>\n",
              "      <th>25637</th>\n",
              "      <td>25637</td>\n",
              "      <td>26</td>\n",
              "      <td>2015-08-27 6:30:00</td>\n",
              "      <td>-70.58535</td>\n",
              "      <td>40.95506</td>\n",
              "      <td>24.169094</td>\n",
              "      <td>31.625479</td>\n",
              "      <td>0.722782</td>\n",
              "      <td>1501.0</td>\n",
              "    </tr>\n",
              "    <tr>\n",
              "      <th>25638</th>\n",
              "      <td>25638</td>\n",
              "      <td>26</td>\n",
              "      <td>2015-08-31 21:59:00</td>\n",
              "      <td>-70.81768</td>\n",
              "      <td>40.82880</td>\n",
              "      <td>24.169094</td>\n",
              "      <td>NaN</td>\n",
              "      <td>0.596911</td>\n",
              "      <td>1132.0</td>\n",
              "    </tr>\n",
              "    <tr>\n",
              "      <th>25639</th>\n",
              "      <td>25639</td>\n",
              "      <td>26</td>\n",
              "      <td>2015-08-31 23:04:00</td>\n",
              "      <td>-70.80026</td>\n",
              "      <td>40.84223</td>\n",
              "      <td>24.169094</td>\n",
              "      <td>NaN</td>\n",
              "      <td>0.610564</td>\n",
              "      <td>1179.0</td>\n",
              "    </tr>\n",
              "  </tbody>\n",
              "</table>\n",
              "</div>\n",
              "    <div class=\"colab-df-buttons\">\n",
              "\n",
              "  <div class=\"colab-df-container\">\n",
              "    <button class=\"colab-df-convert\" onclick=\"convertToInteractive('df-8c5e390e-dd9a-4b0a-97c9-99b8b75790b1')\"\n",
              "            title=\"Convert this dataframe to an interactive table.\"\n",
              "            style=\"display:none;\">\n",
              "\n",
              "  <svg xmlns=\"http://www.w3.org/2000/svg\" height=\"24px\" viewBox=\"0 -960 960 960\">\n",
              "    <path d=\"M120-120v-720h720v720H120Zm60-500h600v-160H180v160Zm220 220h160v-160H400v160Zm0 220h160v-160H400v160ZM180-400h160v-160H180v160Zm440 0h160v-160H620v160ZM180-180h160v-160H180v160Zm440 0h160v-160H620v160Z\"/>\n",
              "  </svg>\n",
              "    </button>\n",
              "\n",
              "  <style>\n",
              "    .colab-df-container {\n",
              "      display:flex;\n",
              "      gap: 12px;\n",
              "    }\n",
              "\n",
              "    .colab-df-convert {\n",
              "      background-color: #E8F0FE;\n",
              "      border: none;\n",
              "      border-radius: 50%;\n",
              "      cursor: pointer;\n",
              "      display: none;\n",
              "      fill: #1967D2;\n",
              "      height: 32px;\n",
              "      padding: 0 0 0 0;\n",
              "      width: 32px;\n",
              "    }\n",
              "\n",
              "    .colab-df-convert:hover {\n",
              "      background-color: #E2EBFA;\n",
              "      box-shadow: 0px 1px 2px rgba(60, 64, 67, 0.3), 0px 1px 3px 1px rgba(60, 64, 67, 0.15);\n",
              "      fill: #174EA6;\n",
              "    }\n",
              "\n",
              "    .colab-df-buttons div {\n",
              "      margin-bottom: 4px;\n",
              "    }\n",
              "\n",
              "    [theme=dark] .colab-df-convert {\n",
              "      background-color: #3B4455;\n",
              "      fill: #D2E3FC;\n",
              "    }\n",
              "\n",
              "    [theme=dark] .colab-df-convert:hover {\n",
              "      background-color: #434B5C;\n",
              "      box-shadow: 0px 1px 3px 1px rgba(0, 0, 0, 0.15);\n",
              "      filter: drop-shadow(0px 1px 2px rgba(0, 0, 0, 0.3));\n",
              "      fill: #FFFFFF;\n",
              "    }\n",
              "  </style>\n",
              "\n",
              "    <script>\n",
              "      const buttonEl =\n",
              "        document.querySelector('#df-8c5e390e-dd9a-4b0a-97c9-99b8b75790b1 button.colab-df-convert');\n",
              "      buttonEl.style.display =\n",
              "        google.colab.kernel.accessAllowed ? 'block' : 'none';\n",
              "\n",
              "      async function convertToInteractive(key) {\n",
              "        const element = document.querySelector('#df-8c5e390e-dd9a-4b0a-97c9-99b8b75790b1');\n",
              "        const dataTable =\n",
              "          await google.colab.kernel.invokeFunction('convertToInteractive',\n",
              "                                                    [key], {});\n",
              "        if (!dataTable) return;\n",
              "\n",
              "        const docLinkHtml = 'Like what you see? Visit the ' +\n",
              "          '<a target=\"_blank\" href=https://colab.research.google.com/notebooks/data_table.ipynb>data table notebook</a>'\n",
              "          + ' to learn more about interactive tables.';\n",
              "        element.innerHTML = '';\n",
              "        dataTable['output_type'] = 'display_data';\n",
              "        await google.colab.output.renderOutput(dataTable, element);\n",
              "        const docLink = document.createElement('div');\n",
              "        docLink.innerHTML = docLinkHtml;\n",
              "        element.appendChild(docLink);\n",
              "      }\n",
              "    </script>\n",
              "  </div>\n",
              "\n",
              "\n",
              "<div id=\"df-2e9a7542-4c13-489e-b9ee-8182c6ccf514\">\n",
              "  <button class=\"colab-df-quickchart\" onclick=\"quickchart('df-2e9a7542-4c13-489e-b9ee-8182c6ccf514')\"\n",
              "            title=\"Suggest charts\"\n",
              "            style=\"display:none;\">\n",
              "\n",
              "<svg xmlns=\"http://www.w3.org/2000/svg\" height=\"24px\"viewBox=\"0 0 24 24\"\n",
              "     width=\"24px\">\n",
              "    <g>\n",
              "        <path d=\"M19 3H5c-1.1 0-2 .9-2 2v14c0 1.1.9 2 2 2h14c1.1 0 2-.9 2-2V5c0-1.1-.9-2-2-2zM9 17H7v-7h2v7zm4 0h-2V7h2v10zm4 0h-2v-4h2v4z\"/>\n",
              "    </g>\n",
              "</svg>\n",
              "  </button>\n",
              "\n",
              "<style>\n",
              "  .colab-df-quickchart {\n",
              "      --bg-color: #E8F0FE;\n",
              "      --fill-color: #1967D2;\n",
              "      --hover-bg-color: #E2EBFA;\n",
              "      --hover-fill-color: #174EA6;\n",
              "      --disabled-fill-color: #AAA;\n",
              "      --disabled-bg-color: #DDD;\n",
              "  }\n",
              "\n",
              "  [theme=dark] .colab-df-quickchart {\n",
              "      --bg-color: #3B4455;\n",
              "      --fill-color: #D2E3FC;\n",
              "      --hover-bg-color: #434B5C;\n",
              "      --hover-fill-color: #FFFFFF;\n",
              "      --disabled-bg-color: #3B4455;\n",
              "      --disabled-fill-color: #666;\n",
              "  }\n",
              "\n",
              "  .colab-df-quickchart {\n",
              "    background-color: var(--bg-color);\n",
              "    border: none;\n",
              "    border-radius: 50%;\n",
              "    cursor: pointer;\n",
              "    display: none;\n",
              "    fill: var(--fill-color);\n",
              "    height: 32px;\n",
              "    padding: 0;\n",
              "    width: 32px;\n",
              "  }\n",
              "\n",
              "  .colab-df-quickchart:hover {\n",
              "    background-color: var(--hover-bg-color);\n",
              "    box-shadow: 0 1px 2px rgba(60, 64, 67, 0.3), 0 1px 3px 1px rgba(60, 64, 67, 0.15);\n",
              "    fill: var(--button-hover-fill-color);\n",
              "  }\n",
              "\n",
              "  .colab-df-quickchart-complete:disabled,\n",
              "  .colab-df-quickchart-complete:disabled:hover {\n",
              "    background-color: var(--disabled-bg-color);\n",
              "    fill: var(--disabled-fill-color);\n",
              "    box-shadow: none;\n",
              "  }\n",
              "\n",
              "  .colab-df-spinner {\n",
              "    border: 2px solid var(--fill-color);\n",
              "    border-color: transparent;\n",
              "    border-bottom-color: var(--fill-color);\n",
              "    animation:\n",
              "      spin 1s steps(1) infinite;\n",
              "  }\n",
              "\n",
              "  @keyframes spin {\n",
              "    0% {\n",
              "      border-color: transparent;\n",
              "      border-bottom-color: var(--fill-color);\n",
              "      border-left-color: var(--fill-color);\n",
              "    }\n",
              "    20% {\n",
              "      border-color: transparent;\n",
              "      border-left-color: var(--fill-color);\n",
              "      border-top-color: var(--fill-color);\n",
              "    }\n",
              "    30% {\n",
              "      border-color: transparent;\n",
              "      border-left-color: var(--fill-color);\n",
              "      border-top-color: var(--fill-color);\n",
              "      border-right-color: var(--fill-color);\n",
              "    }\n",
              "    40% {\n",
              "      border-color: transparent;\n",
              "      border-right-color: var(--fill-color);\n",
              "      border-top-color: var(--fill-color);\n",
              "    }\n",
              "    60% {\n",
              "      border-color: transparent;\n",
              "      border-right-color: var(--fill-color);\n",
              "    }\n",
              "    80% {\n",
              "      border-color: transparent;\n",
              "      border-right-color: var(--fill-color);\n",
              "      border-bottom-color: var(--fill-color);\n",
              "    }\n",
              "    90% {\n",
              "      border-color: transparent;\n",
              "      border-bottom-color: var(--fill-color);\n",
              "    }\n",
              "  }\n",
              "</style>\n",
              "\n",
              "  <script>\n",
              "    async function quickchart(key) {\n",
              "      const quickchartButtonEl =\n",
              "        document.querySelector('#' + key + ' button');\n",
              "      quickchartButtonEl.disabled = true;  // To prevent multiple clicks.\n",
              "      quickchartButtonEl.classList.add('colab-df-spinner');\n",
              "      try {\n",
              "        const charts = await google.colab.kernel.invokeFunction(\n",
              "            'suggestCharts', [key], {});\n",
              "      } catch (error) {\n",
              "        console.error('Error during call to suggestCharts:', error);\n",
              "      }\n",
              "      quickchartButtonEl.classList.remove('colab-df-spinner');\n",
              "      quickchartButtonEl.classList.add('colab-df-quickchart-complete');\n",
              "    }\n",
              "    (() => {\n",
              "      let quickchartButtonEl =\n",
              "        document.querySelector('#df-2e9a7542-4c13-489e-b9ee-8182c6ccf514 button');\n",
              "      quickchartButtonEl.style.display =\n",
              "        google.colab.kernel.accessAllowed ? 'block' : 'none';\n",
              "    })();\n",
              "  </script>\n",
              "</div>\n",
              "\n",
              "    </div>\n",
              "  </div>\n"
            ]
          },
          "metadata": {},
          "execution_count": 13
        }
      ],
      "source": [
        "data.tail(20)"
      ]
    },
    {
      "cell_type": "code",
      "execution_count": null,
      "metadata": {
        "id": "E4RsZQNAu_Z7",
        "colab": {
          "base_uri": "https://localhost:8080/"
        },
        "outputId": "ec1425bf-dad6-442c-af54-c594a8eebd86"
      },
      "outputs": [
        {
          "output_type": "stream",
          "name": "stdout",
          "text": [
            "<class 'pandas.core.frame.DataFrame'>\n",
            "Int64Index: 25640 entries, 0 to 25639\n",
            "Data columns (total 9 columns):\n",
            " #   Column       Non-Null Count  Dtype  \n",
            "---  ------       --------------  -----  \n",
            " 0   Unnamed: 0   25640 non-null  int64  \n",
            " 1   shark        25640 non-null  int64  \n",
            " 2   timestamp    25640 non-null  object \n",
            " 3   longitude    25640 non-null  float64\n",
            " 4   latitude     25640 non-null  float64\n",
            " 5   sst_C        25608 non-null  float64\n",
            " 6   salinity     19581 non-null  float64\n",
            " 7   chlorophyll  24418 non-null  float64\n",
            " 8   elevation    25627 non-null  float64\n",
            "dtypes: float64(6), int64(2), object(1)\n",
            "memory usage: 2.0+ MB\n"
          ]
        }
      ],
      "source": [
        "data.info()"
      ]
    },
    {
      "cell_type": "code",
      "execution_count": null,
      "metadata": {
        "id": "Cxe7wh0IBx8o",
        "colab": {
          "base_uri": "https://localhost:8080/"
        },
        "outputId": "5fd2c539-db21-4bae-a4c7-84d61180930b"
      },
      "outputs": [
        {
          "output_type": "execute_result",
          "data": {
            "text/plain": [
              "Index(['Unnamed: 0', 'shark', 'timestamp', 'longitude', 'latitude', 'sst_C',\n",
              "       'salinity', 'chlorophyll', 'elevation'],\n",
              "      dtype='object')"
            ]
          },
          "metadata": {},
          "execution_count": 15
        }
      ],
      "source": [
        "data.columns"
      ]
    },
    {
      "cell_type": "code",
      "execution_count": null,
      "metadata": {
        "id": "WHWSs5vpgJmj",
        "colab": {
          "base_uri": "https://localhost:8080/"
        },
        "outputId": "55b9fa7c-6833-42a1-c204-878dd619e076"
      },
      "outputs": [
        {
          "output_type": "stream",
          "name": "stdout",
          "text": [
            "The shape of data is (25640, 9)\n"
          ]
        }
      ],
      "source": [
        "print(\"The shape of data is\", data.shape)"
      ]
    },
    {
      "cell_type": "code",
      "execution_count": null,
      "metadata": {
        "id": "duKTiY2rCwg4",
        "colab": {
          "base_uri": "https://localhost:8080/"
        },
        "outputId": "7a25fbe0-420d-4ec8-af19-64697ed12565"
      },
      "outputs": [
        {
          "output_type": "execute_result",
          "data": {
            "text/plain": [
              "26"
            ]
          },
          "metadata": {},
          "execution_count": 17
        }
      ],
      "source": [
        "# Find the number of unique sharks in the input data:\n",
        "num_sharks = data['shark'].nunique()\n",
        "num_sharks"
      ]
    },
    {
      "cell_type": "code",
      "execution_count": null,
      "metadata": {
        "id": "NNvezZHIfcrL",
        "colab": {
          "base_uri": "https://localhost:8080/",
          "height": 718
        },
        "outputId": "c7786e22-7b36-440b-a631-0fc8f01f8adc"
      },
      "outputs": [
        {
          "output_type": "display_data",
          "data": {
            "text/plain": [
              "<Figure size 1200x800 with 1 Axes>"
            ],
            "image/png": "[encoded data removed]"
          },
          "metadata": {}
        }
      ],
      "source": [
        "# Scatter plot of habitats\n",
        "plt.figure(figsize=(12, 8))\n",
        "plt.scatter(data['longitude'],data['latitude'])\n",
        "plt.title('Shark movement tracking data points')\n",
        "plt.xlabel('Longitude')\n",
        "plt.ylabel('Latitude')\n",
        "plt.show()"
      ]
    },
    {
      "cell_type": "code",
      "source": [
        "# Plot the distribution of Sea Surface Temperature\n",
        "\n",
        "plt.figure(figsize=(10, 6))\n",
        "\n",
        "# Plot the histogram of 'sst_C' values\n",
        "plt.hist(data['sst_C'], bins=20, color='blue', edgecolor='black', alpha=0.7)\n",
        "\n",
        "# Add labels and title\n",
        "plt.xlabel('Sea Surface Temperature (°C)')\n",
        "plt.ylabel('Frequency')\n",
        "plt.title('Distribution of Sea Surface Temperature')\n",
        "\n",
        "# Show the plot\n",
        "plt.show()"
      ],
      "metadata": {
        "colab": {
          "base_uri": "https://localhost:8080/",
          "height": 564
        },
        "id": "XWX8xfUVGh69",
        "outputId": "dffd5c2b-b7a0-45b5-f277-1dbfbd951484"
      },
      "execution_count": null,
      "outputs": [
        {
          "output_type": "display_data",
          "data": {
            "text/plain": [
              "<Figure size 1000x600 with 1 Axes>"
            ],
            "image/png": "[encoded data removed]"
          },
          "metadata": {}
        }
      ]
    },
    {
      "cell_type": "code",
      "source": [
        "# Plot the distribution of sea surface temperature, salinity, chlorophyll, elevation, etc.\n",
        "\n",
        "# Select the columns for plotting\n",
        "columns_to_plot = ['sst_C', 'salinity', 'chlorophyll', 'elevation']\n",
        "\n",
        "# Create subplots\n",
        "fig, axes = plt.subplots(nrows=2, ncols=2, figsize=(12, 10))\n",
        "\n",
        "# Flatten the 2D array of subplots\n",
        "axes = axes.flatten()\n",
        "\n",
        "# Customize x-labels for each subplot\n",
        "x_labels = {'sst_C': 'Sea Surface Temperature (°C)',\n",
        "            'salinity': 'Salinity',\n",
        "            'chlorophyll': 'Chlorophyll Concentration',\n",
        "            'elevation': 'Elevation'}\n",
        "\n",
        "# Plot each variable\n",
        "for i, column in enumerate(columns_to_plot):\n",
        "    sns.histplot(data[column].dropna(), kde=True, ax=axes[i], color='skyblue', bins=30)  # Use seaborn for improved aesthetics\n",
        "    axes[i].set_xlabel(x_labels[column])\n",
        "    axes[i].set_ylabel('Frequency')\n",
        "\n",
        "# Adjust layout\n",
        "plt.tight_layout()\n",
        "plt.show()"
      ],
      "metadata": {
        "colab": {
          "base_uri": "https://localhost:8080/",
          "height": 1000
        },
        "id": "7pCni0ryL_dE",
        "outputId": "f1d7a99f-ce02-4a64-bfc1-cbf436a514b6"
      },
      "execution_count": null,
      "outputs": [
        {
          "output_type": "display_data",
          "data": {
            "text/plain": [
              "<Figure size 1200x1000 with 4 Axes>"
            ],
            "image/png": "[encoded data removed]"
          },
          "metadata": {}
        }
      ]
    },
    {
      "cell_type": "markdown",
      "metadata": {
        "id": "FrAAe-LerzIK"
      },
      "source": [
        "#Find the Optimal Value of K using the Elbow Method\n"
      ]
    },
    {
      "cell_type": "code",
      "execution_count": null,
      "metadata": {
        "id": "2nueKpqkr9GZ"
      },
      "outputs": [],
      "source": [
        "# create an empty list for store residuals\n",
        "wcss = []\n",
        "\n",
        "for i in range(1,25):\n",
        "    # create an object of K-Means class\n",
        "    km = KMeans(n_clusters=i)\n",
        "    # pass the dataframe to fit the algorithm\n",
        "    km.fit_predict(data[['longitude','latitude']])\n",
        "    # append inertia value to wcss list\n",
        "    wcss.append(km.inertia_)"
      ]
    },
    {
      "cell_type": "code",
      "execution_count": null,
      "metadata": {
        "id": "jQuP8Gd4sN2R"
      },
      "outputs": [],
      "source": [
        "# Plot of WCSS vs. K to check the optimal value of K\n",
        "plt.plot(range(1,25),wcss)\n",
        "plt.title('The Elbow Method Graph')\n",
        "plt.xlabel('Number of clusters(k)')\n",
        "plt.ylabel('wcss_list')\n",
        "plt.show()"
      ]
    },
    {
      "cell_type": "markdown",
      "metadata": {
        "id": "GLFMKqpDbavJ"
      },
      "source": [
        "# Generate Clusters"
      ]
    },
    {
      "cell_type": "code",
      "execution_count": null,
      "metadata": {
        "id": "KHyIMZSaXfjn"
      },
      "outputs": [],
      "source": [
        "# K-means clustering using Scikit-Learn\n",
        "\n",
        "# Statically define the number of clusters:\n",
        "num_clusters = 15\n",
        "kmeans = KMeans(n_clusters=num_clusters)\n",
        "\n",
        "# Fit the data in the cluster:\n",
        "y_means = kmeans.fit(data[['longitude','latitude']])"
      ]
    },
    {
      "cell_type": "code",
      "execution_count": null,
      "metadata": {
        "id": "mD8kbt8ycc3O"
      },
      "outputs": [],
      "source": [
        "# Find the clusters center\n",
        "kmeans.cluster_centers_"
      ]
    },
    {
      "cell_type": "code",
      "execution_count": null,
      "metadata": {
        "id": "lXhQ0-YcY4tY"
      },
      "outputs": [],
      "source": [
        "cluster_labels = kmeans.labels_\n",
        "data['cluster'] = cluster_labels\n",
        "\n",
        "print(cluster_labels)\n",
        "\n",
        "# print with the label\n",
        "data.head(10)"
      ]
    },
    {
      "cell_type": "code",
      "execution_count": null,
      "metadata": {
        "id": "g2f_P7IsNU2P"
      },
      "outputs": [],
      "source": [
        "data.tail(10)"
      ]
    },
    {
      "cell_type": "markdown",
      "metadata": {
        "id": "HVNqZDsm3eSr"
      },
      "source": [
        "# Visualize Clusters"
      ]
    },
    {
      "cell_type": "code",
      "execution_count": null,
      "metadata": {
        "id": "yydVbdvqdhEr"
      },
      "outputs": [],
      "source": [
        "plt.figure(figsize=(12,8))\n",
        "#plt.subplot(1,2,1)\n",
        "plt.scatter(data['longitude'], data['latitude'])\n",
        "plt.title('Shark Habitat Clusters (k-means)')\n",
        "\n",
        "plt.grid(True)\n",
        "i = 0\n",
        "for center in kmeans.cluster_centers_:\n",
        "    i += 1\n",
        "    marker = '$' + str(i) + '$'\n",
        "    center = center[:2]\n",
        "    plt.scatter(center[0],center[1],marker = marker, c = 'red')\n",
        "plt.xlabel('Longitude')\n",
        "plt.ylabel('Latitude')"
      ]
    },
    {
      "cell_type": "code",
      "execution_count": null,
      "metadata": {
        "id": "H3xEl_4zOMai"
      },
      "outputs": [],
      "source": [
        "# visualization\n",
        "sns.set(style='whitegrid')\n",
        "plt.figure(figsize=(16,7))\n",
        "\n",
        "plt.title('Shark Habitat Clusters (k-means)')\n",
        "plt.xlabel('Longitude')\n",
        "plt.ylabel('Latitude')\n",
        "\n",
        "sns.scatterplot(x=\"longitude\", y=\"latitude\", hue=data['cluster'], palette=sns.color_palette(\"hls\",15), data=data, legend=\"full\")\n",
        "\n",
        "i = 0\n",
        "for center in kmeans.cluster_centers_:\n",
        "    marker = '$' + str(i) + '$'\n",
        "    center = center[:2]\n",
        "    plt.scatter(center[0],center[1],marker = marker, s = 20**2, c = 'red', alpha=0.5)\n",
        "    i += 1\n",
        "\n",
        "plt.show()"
      ]
    },
    {
      "cell_type": "markdown",
      "metadata": {
        "id": "juomTV9_bavL"
      },
      "source": [
        "# Temporal Cluster Analysis"
      ]
    },
    {
      "cell_type": "code",
      "execution_count": null,
      "metadata": {
        "id": "R4QZjTELH29L"
      },
      "outputs": [],
      "source": [
        "print(\"The shape of data is\", data.shape)"
      ]
    },
    {
      "cell_type": "code",
      "execution_count": null,
      "metadata": {
        "id": "8L0abplj1osY"
      },
      "outputs": [],
      "source": [
        "# Sort the data for each shark by timestamp\n",
        "\n",
        "# Assuming df is your DataFrame\n",
        "data['timestamp'] = pd.to_datetime(data['timestamp'])\n",
        "\n",
        "# Sort the DataFrame by shark and timestamp\n",
        "data_sorted = data.sort_values(by=['shark', 'timestamp'])\n",
        "\n",
        "# Reset index to keep the DataFrame consistent\n",
        "data_sorted.reset_index(drop=True, inplace=True)\n",
        "\n",
        "# Assign the sorted DataFrame back to the original DataFrame\n",
        "data = data_sorted.copy()\n",
        "\n",
        "# Print the sorted DataFrame\n",
        "print(data)"
      ]
    },
    {
      "cell_type": "code",
      "execution_count": null,
      "metadata": {
        "id": "nkA-5lYBQb-5"
      },
      "outputs": [],
      "source": [
        "# Iterate through a pandas dataframe, and for each row, calculate the time\n",
        "# difference between consecutive rows, and add this data as a column to the dataframe.\n",
        "\n",
        "# Sort the DataFrame by 'shark' and 'timestamp' to ensure consecutive data points for each shark\n",
        "data.sort_values(by=['shark', 'timestamp'], inplace=True)\n",
        "\n",
        "# Create a new column 'time_diff' to store the time differences in timedelta format\n",
        "data['time_diff'] = pd.to_timedelta('0')  # Initialize the column with zero time difference\n",
        "\n",
        "# Iterate through the DataFrame\n",
        "for i in range(1, len(data)):\n",
        "    # Check if the shark ID is the same as the previous row AND cluster hasn't changed\n",
        "    if data['shark'].iloc[i] == data['shark'].iloc[i - 1] and data['cluster'].iloc[i] == data['cluster'].iloc[i - 1]:\n",
        "        # Calculate time difference between consecutive rows\n",
        "        time_difference = data['timestamp'].iloc[i] - data['timestamp'].iloc[i - 1]\n",
        "        # Assign the time difference to the 'time_diff' column\n",
        "        data.at[i, 'time_diff'] = time_difference"
      ]
    },
    {
      "cell_type": "code",
      "execution_count": null,
      "metadata": {
        "id": "iksoJL2S5vJt"
      },
      "outputs": [],
      "source": [
        "# DataFrame with the added 'time_diff' column\n",
        "data.head(10)"
      ]
    },
    {
      "cell_type": "code",
      "execution_count": null,
      "metadata": {
        "id": "x2ZFrLQa6yCU"
      },
      "outputs": [],
      "source": [
        "# # Save DataFrame as CSV file\n",
        "# data.to_csv('output_cluster_staytime.csv', index=False)\n",
        "\n",
        "# # Save DataFrame as XCEL file\n",
        "# data.to_excel('output_cluster_staytime1.xlsx', index=False)"
      ]
    },
    {
      "cell_type": "code",
      "execution_count": null,
      "metadata": {
        "id": "rahdcPdmHUKa"
      },
      "outputs": [],
      "source": [
        "# Group by 'cluster' and calculate 'staytime' from the total sum of 'time_diff' for each cluster\n",
        "staytime = data.groupby('cluster')['time_diff'].sum()\n",
        "\n",
        "# Convert the total time to hours as an integer\n",
        "staytime = staytime.dt.total_seconds() / 3600\n",
        "staytime = staytime.astype(int)\n",
        "\n",
        "staytime_median = int(staytime.median())\n",
        "\n",
        "# Print the result\n",
        "print(\"staytime cluster:\", staytime)\n",
        "print(\"staytime median:\", staytime_median)\n",
        "type(staytime)"
      ]
    },
    {
      "cell_type": "code",
      "execution_count": null,
      "metadata": {
        "id": "aVONGHeg0MGa"
      },
      "outputs": [],
      "source": [
        "# Create a new column 'habitat'\n",
        "data['habitat'] = 0\n",
        "\n",
        "for i in range(1, len(data)):\n",
        "\n",
        "  # Check if the shark ID is the same as the previous row AND cluster hasn't changed\n",
        "  if (staytime[data['cluster'].iloc[i]] > staytime_median):\n",
        "    data.at[i, 'habitat'] = 1"
      ]
    },
    {
      "cell_type": "code",
      "execution_count": null,
      "metadata": {
        "id": "1x7gfMw76HV3"
      },
      "outputs": [],
      "source": [
        "# print rows anywhere in the dataframe instead using head() or tail()\n",
        "i = 10000\n",
        "data.iloc[i:i+25]\n",
        "#data.head(25)"
      ]
    },
    {
      "cell_type": "code",
      "execution_count": null,
      "metadata": {
        "id": "x0HQ7vYSHT4a"
      },
      "outputs": [],
      "source": [
        "# visualization\n",
        "sns.set(style='whitegrid')\n",
        "plt.figure(figsize=(16,7))\n",
        "\n",
        "plt.title('Shark Habitat Clusters (k-means)')\n",
        "plt.xlabel('Longitude')\n",
        "plt.ylabel('Latitude')\n",
        "\n",
        "sns.scatterplot(x=\"longitude\", y=\"latitude\", hue=data['cluster'], palette=sns.color_palette(\"hls\",15), data=data, legend=\"full\")\n",
        "\n",
        "i = 0\n",
        "for center in kmeans.cluster_centers_:\n",
        "    marker = '$' + str(i) + '$'\n",
        "    center = center[:2]\n",
        "\n",
        "    if (staytime[i] > staytime_median):\n",
        "      plt.scatter(center[0],center[1],marker = marker, s = 40**2, c = 'red', alpha=0.5)\n",
        "    else:\n",
        "      plt.scatter(center[0],center[1],marker = marker, s = 20**2, c = 'black', alpha=0.5)\n",
        "    i += 1\n",
        "\n",
        "plt.show()"
      ]
    },
    {
      "cell_type": "markdown",
      "metadata": {
        "id": "j-jBQ-lKIf3B"
      },
      "source": [
        "# Habitat analysis using Decision Trees (salinity, chlorophyll, distance to coast, depth, etc.)"
      ]
    },
    {
      "cell_type": "code",
      "execution_count": null,
      "metadata": {
        "id": "m4ky15cZKjGs"
      },
      "outputs": [],
      "source": [
        "# drop rows with NaN values (or impute cells)\n",
        "data.dropna(inplace=True)"
      ]
    },
    {
      "cell_type": "code",
      "execution_count": null,
      "metadata": {
        "id": "1GjOyrCP0wHe"
      },
      "outputs": [],
      "source": [
        "data.describe"
      ]
    },
    {
      "cell_type": "code",
      "source": [
        "# ValueError: Input X contains NaN.\n",
        "# DecisionTreeClassifier does not accept missing values encoded as NaN natively. For supervised learning, you might want to consider\n",
        "# sklearn.ensemble.HistGradientBoostingClassifier and Regressor which accept missing values encoded as NaNs natively. Alternatively,\n",
        "# it is possible to preprocess the data, for instance by using an imputer transformer in a pipeline or drop samples with missing values.\n",
        "# See https://scikit-learn.org/stable/modules/impute.html You can find a list of all estimators that handle NaN values at the following\n",
        "# page: https://scikit-learn.org/stable/modules/impute.html#estimators-that-handle-nan-values"
      ],
      "metadata": {
        "id": "zxwSMp7jOhdg"
      },
      "execution_count": null,
      "outputs": []
    },
    {
      "cell_type": "code",
      "execution_count": null,
      "metadata": {
        "id": "aDj5wvfCIdJS"
      },
      "outputs": [],
      "source": [
        "# Import necessary libraries\n",
        "import pandas as pd\n",
        "from sklearn.model_selection import train_test_split\n",
        "from sklearn.tree import DecisionTreeClassifier\n",
        "from sklearn.metrics import accuracy_score, classification_report\n",
        "from sklearn.preprocessing import LabelEncoder\n",
        "\n",
        "# columns in 'data' DataFrame are: shark\ttimestamp\tlongitude\tlatitude\tsst_C\tsalinity\tchlorophyll\televation\tcluster\ttime_diff\thabitat\n",
        "# 'habitat' is the categorical column with labels, sst_C (sea surface temperature), salinity, and 'chlorophyll' are numeric columns\n",
        "\n",
        "# Encode the categorical labels to numerical values\n",
        "le = LabelEncoder()\n",
        "data['habitat'] = le.fit_transform(data['habitat'])\n",
        "\n",
        "# Features (ocean environmental conditions)\n",
        "X = data[['sst_C', 'salinity', 'chlorophyll', 'elevation']]\n",
        "\n",
        "# Target variable (habitat)\n",
        "y = data['habitat']\n",
        "\n",
        "# Split the data into training and testing sets\n",
        "X_train, X_test, y_train, y_test = train_test_split(X, y, test_size=0.2, random_state=42)\n",
        "\n",
        "# Create a Decision Tree classifier\n",
        "clf = DecisionTreeClassifier()\n",
        "\n",
        "# Train the classifier\n",
        "clf.fit(X_train, y_train)\n",
        "\n",
        "# Make predictions on the test set\n",
        "y_pred = clf.predict(X_test)\n",
        "\n",
        "# Evaluate the model\n",
        "accuracy = accuracy_score(y_test, y_pred)\n",
        "print(f'Accuracy: {accuracy}')\n",
        "\n",
        "# Print classification report for more detailed metrics\n",
        "print(classification_report(y_test, y_pred))"
      ]
    },
    {
      "cell_type": "code",
      "source": [
        "# Calculate minimum and maximum values for each feature\n",
        "min_values = data.min()\n",
        "max_values = data.max()\n",
        "\n",
        "print(\"sst_C: min\", min_values['sst_C'], \"max\", max_values['sst_C'])\n",
        "print(\"salinity: min\", min_values['salinity'], \"max\", max_values['salinity'])\n",
        "print(\"min chlorophyll: min\", min_values['chlorophyll'], \"max\", max_values['chlorophyll'])\n",
        "print(\"elevation: min\", min_values['elevation'], \"max\", max_values['elevation'])"
      ],
      "metadata": {
        "id": "Q92N-dIuP29C"
      },
      "execution_count": null,
      "outputs": []
    },
    {
      "cell_type": "code",
      "source": [
        "# Using dataframe data, take 100 datapoints at random from the 'data' dataframe onto another dataframe\n",
        "new_data = data.sample(n=100)"
      ],
      "metadata": {
        "id": "Mazm8gfLSp5f"
      },
      "execution_count": null,
      "outputs": []
    },
    {
      "cell_type": "code",
      "source": [
        "# Randomize the values in the specified column\n",
        "new_data['sst_C'] = np.random.uniform(min_values['sst_C'] * .75, max_values['sst_C'] * 1.25, size=len(new_data))\n",
        "new_data['salinity'] = np.random.uniform(min_values['salinity'] * .75, max_values['salinity'] * 1.25, size=len(new_data))\n",
        "new_data['chlorophyll'] = np.random.uniform(min_values['chlorophyll'] * .75, max_values['chlorophyll'] * 1.25, size=len(new_data))\n",
        "new_data['elevation'] = np.random.uniform(min_values['elevation'] * .75, max_values['elevation'] * 1.25, size=len(new_data))\n",
        "\n",
        "# Print the DataFrame with randomized values\n",
        "new_data.head(20)"
      ],
      "metadata": {
        "id": "7FqNtwU_T3hR"
      },
      "execution_count": null,
      "outputs": []
    },
    {
      "cell_type": "code",
      "source": [
        "# Use the trained Decision Tree classifier 'clf' and a new DataFrame 'new_data' with columns for 'sea surface temperature',\n",
        "# 'sea salinity level', 'chlorophyll concentration', 'elevation'.\n",
        "# Ensure 'new_data' has the same column names and order as the training data\n",
        "\n",
        "# Make predictions on the new data\n",
        "new_predictions = clf.predict(new_data[['sst_C', 'salinity', 'chlorophyll', 'elevation']])\n",
        "\n",
        "# Convert numerical predictions back to original labels if needed\n",
        "new_predictions_labels = le.inverse_transform(new_predictions)\n",
        "\n",
        "# Add the predictions to the new data DataFrame\n",
        "new_data['predicted_shark_habitat'] = new_predictions_labels\n",
        "\n",
        "#print(new_data[['sst_C', 'salinity', 'chlorophyll', 'elevation', 'predicted_shark_habitat']])\n",
        "new_data.head(10)"
      ],
      "metadata": {
        "id": "SAfM3glMazVo"
      },
      "execution_count": null,
      "outputs": []
    },
    {
      "cell_type": "markdown",
      "metadata": {
        "id": "EEYFVc1jQev5"
      },
      "source": [
        "# Habitat analysis using Random Forest classifier"
      ]
    },
    {
      "cell_type": "code",
      "execution_count": null,
      "metadata": {
        "id": "f0tOkDYW2e_t"
      },
      "outputs": [],
      "source": [
        "data.dropna(inplace=True)"
      ]
    },
    {
      "cell_type": "code",
      "source": [
        "# Import necessary libraries\n",
        "import pandas as pd\n",
        "from sklearn.model_selection import train_test_split, GridSearchCV\n",
        "from sklearn.ensemble import RandomForestClassifier\n",
        "from sklearn.metrics import accuracy_score, classification_report\n",
        "from sklearn.preprocessing import LabelEncoder"
      ],
      "metadata": {
        "id": "WGBIkz-bBd-S"
      },
      "execution_count": null,
      "outputs": []
    },
    {
      "cell_type": "code",
      "execution_count": null,
      "metadata": {
        "id": "LFQ1Gf6h3QJ0"
      },
      "outputs": [],
      "source": [
        "# Let's assume 'habitat' is a categorical column with labels and encode the categorical labels to numerical values\n",
        "le = LabelEncoder()\n",
        "data['habitat'] = le.fit_transform(data['habitat'])\n",
        "\n",
        "# Features (ocean conditions- 'sea surface temperature', 'salinity', 'chlorophyll', and 'elevation')\n",
        "X = data[['sst_C', 'salinity', 'chlorophyll', 'elevation']]\n",
        "\n",
        "# Target variable (shark habitat areas)\n",
        "y = data['habitat']\n",
        "\n",
        "# Split the data into training and testing sets\n",
        "X_train, X_test, y_train, y_test = train_test_split(X, y, test_size=0.2, random_state=42)\n",
        "\n",
        "# Create a Random Forest classifier\n",
        "rf_classifier = RandomForestClassifier(random_state=42)"
      ]
    },
    {
      "cell_type": "code",
      "source": [
        "# Define hyperparameters to tune\n",
        "param_grid = {\n",
        "    'n_estimators': [50, 100, 200],\n",
        "    'max_depth': [None, 10, 20, 30],\n",
        "    'min_samples_split': [2, 5, 10],\n",
        "    'min_samples_leaf': [1, 2, 4]\n",
        "}\n",
        "\n",
        "# Perform GridSearchCV to find the best hyperparameters\n",
        "grid_search = GridSearchCV(estimator=rf_classifier, param_grid=param_grid, cv=3, scoring='accuracy')\n",
        "grid_search.fit(X_train, y_train)\n",
        "\n",
        "# Get the best hyperparameters\n",
        "best_params = grid_search.best_params_"
      ],
      "metadata": {
        "id": "6oW7wMOHB89w"
      },
      "execution_count": null,
      "outputs": []
    },
    {
      "cell_type": "code",
      "source": [
        "# Create a Random Forest classifier with the best hyperparameters\n",
        "rf_classifier = RandomForestClassifier(**best_params, random_state=42)\n",
        "\n",
        "# Train the classifier\n",
        "rf_classifier.fit(X_train, y_train)\n",
        "\n",
        "# Make predictions on the test set\n",
        "y_pred = rf_classifier.predict(X_test)"
      ],
      "metadata": {
        "id": "pG6S0U-ZBzEZ"
      },
      "execution_count": null,
      "outputs": []
    },
    {
      "cell_type": "code",
      "source": [
        "# Evaluate the model\n",
        "accuracy = accuracy_score(y_test, y_pred)\n",
        "print(f'Accuracy: {accuracy}')\n",
        "\n",
        "# Print classification report for more detailed metrics\n",
        "print(classification_report(y_test, y_pred))\n",
        "\n",
        "# Print feature importance\n",
        "feature_importance = rf_classifier.feature_importances_\n",
        "feature_importance_df = pd.DataFrame({'Feature': X.columns, 'Importance': feature_importance})\n",
        "feature_importance_df = feature_importance_df.sort_values(by='Importance', ascending=False)\n",
        "print('\\nFeature Importance:')\n",
        "print(feature_importance_df)"
      ],
      "metadata": {
        "id": "HVN8bmKDBsYY"
      },
      "execution_count": null,
      "outputs": []
    }
  ],
  "metadata": {
    "colab": {
      "provenance": [],
      "collapsed_sections": [
        "FrAAe-LerzIK",
        "GLFMKqpDbavJ",
        "HVNqZDsm3eSr",
        "juomTV9_bavL",
        "j-jBQ-lKIf3B",
        "EEYFVc1jQev5"
      ],
      "include_colab_link": true
    },
    "kernelspec": {
      "display_name": "Python 3",
      "name": "python3"
    },
    "language_info": {
      "name": "python"
    }
  },
  "nbformat": 4,
  "nbformat_minor": 0
}